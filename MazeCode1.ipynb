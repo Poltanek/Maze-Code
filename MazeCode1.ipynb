{
 "cells": [
  {
   "cell_type": "markdown",
   "id": "33fe756b",
   "metadata": {},
   "source": [
    "# A Python Maze\n",
    "\n",
    "numpy is a very important Python library that allows us to work with matrices. Most Python AI libraries use numpy \n",
    "\n",
    "We will use numpy to represent a small 2D grid world using a matrix. Numbers in this matrix will describe what is currently occupying each place in the grid. For now, we will use the following three numbers:\n",
    "* 0 to indicate an open space that the agent can traverse freely\n",
    "* 1 to indicate a wall that the agent must avoid when moving\n",
    "* 2 to indicate where the agent currently is\n",
    "* 3 to indicate the exit of the maze that the agent needs to reach (the goal)"
   ]
  },
  {
   "cell_type": "markdown",
   "id": "4e28e072",
   "metadata": {},
   "source": []
  },
  {
   "cell_type": "code",
   "execution_count": 18,
   "id": "62398e4d",
   "metadata": {},
   "outputs": [],
   "source": [
    "import numpy as np\n",
    "\n",
    "# size is a tuple (x,y), where y is the number of rows \n",
    "# and y the number of columns\n",
    "# x and y must be >= 3\n",
    "def create_blank_maze(size):\n",
    "    # here we use the numpy function zeros that initialises \n",
    "    # an x*y matrix filled with zeros\n",
    "    maze = np.zeros(size, dtype=int)\n",
    "    return maze"
   ]
  },
  {
   "cell_type": "code",
   "execution_count": 19,
   "id": "000da07e",
   "metadata": {},
   "outputs": [
    {
     "data": {
      "text/plain": [
       "array([[0, 0, 0, 0, 0, 0],\n",
       "       [0, 0, 0, 0, 0, 0],\n",
       "       [0, 0, 0, 0, 0, 0],\n",
       "       [0, 0, 0, 0, 0, 0],\n",
       "       [0, 0, 0, 0, 0, 0],\n",
       "       [0, 0, 0, 0, 0, 0]])"
      ]
     },
     "execution_count": 19,
     "metadata": {},
     "output_type": "execute_result"
    }
   ],
   "source": [
    "maze = create_blank_maze((6,6))\n",
    "maze"
   ]
  },
  {
   "cell_type": "code",
   "execution_count": 20,
   "id": "9971ebfd",
   "metadata": {},
   "outputs": [],
   "source": [
    "# size is a tuple (x,y), where y is the number of rows \n",
    "# and y the number of columns\n",
    "# x and y must be >= 3\n",
    "def create_blank_maze(size):\n",
    "    # here we use the numpy function zeros that initialises \n",
    "    # an x*y matrix filled with zeros\n",
    "    maze = np.zeros(size, dtype=int)\n",
    "    maze[0].fill(1)\n",
    "    maze[size[0]-1].fill(1)\n",
    "    maze[:,0].fill(1)\n",
    "    maze[:,size[1]-1].fill(1)\n",
    "    return maze"
   ]
  },
  {
   "cell_type": "code",
   "execution_count": 21,
   "id": "a4ca0ecd",
   "metadata": {},
   "outputs": [
    {
     "data": {
      "text/plain": [
       "array([[1, 1, 1, 1, 1, 1],\n",
       "       [1, 0, 0, 0, 0, 1],\n",
       "       [1, 0, 0, 0, 0, 1],\n",
       "       [1, 0, 0, 0, 0, 1],\n",
       "       [1, 0, 0, 0, 0, 1],\n",
       "       [1, 1, 1, 1, 1, 1]])"
      ]
     },
     "execution_count": 21,
     "metadata": {},
     "output_type": "execute_result"
    }
   ],
   "source": [
    "maze = create_blank_maze((6,6))\n",
    "maze"
   ]
  },
  {
   "cell_type": "code",
   "execution_count": 22,
   "id": "335bd11e",
   "metadata": {},
   "outputs": [],
   "source": [
    "def create_basic_maze_puzzle(size):\n",
    "    maze = create_blank_maze(size)\n",
    "    maze[1,1] = 2\n",
    "    maze[size[0]-2,size[1]-2] = 3    \n",
    "    return maze"
   ]
  },
  {
   "cell_type": "code",
   "execution_count": 23,
   "id": "629465ec",
   "metadata": {},
   "outputs": [
    {
     "data": {
      "text/plain": [
       "array([[1, 1, 1, 1, 1],\n",
       "       [1, 2, 0, 0, 1],\n",
       "       [1, 0, 0, 0, 1],\n",
       "       [1, 0, 0, 0, 1],\n",
       "       [1, 0, 0, 0, 1],\n",
       "       [1, 0, 0, 0, 1],\n",
       "       [1, 0, 0, 3, 1],\n",
       "       [1, 1, 1, 1, 1]])"
      ]
     },
     "execution_count": 23,
     "metadata": {},
     "output_type": "execute_result"
    }
   ],
   "source": [
    "maze = create_basic_maze_puzzle((8,5))\n",
    "maze"
   ]
  },
  {
   "cell_type": "code",
   "execution_count": 24,
   "id": "f5a243a8",
   "metadata": {},
   "outputs": [],
   "source": [
    "def pretty_print_maze(maze):\n",
    "    if not type(maze) is np.ndarray:\n",
    "        return \"This is not a maze\"\n",
    "    for row in maze:\n",
    "        for element in row:\n",
    "            if element == 0:\n",
    "                print(\" \", end=' ')\n",
    "            elif element == 1:\n",
    "                print(\"X\", end=' ')  \n",
    "            elif element == 2:\n",
    "                print(\"o\", end=' ') \n",
    "            elif element == 3:\n",
    "                print(\"E\", end=' ')  \n",
    "            else:\n",
    "                print(element, end=' ')  \n",
    "        print()"
   ]
  },
  {
   "cell_type": "code",
   "execution_count": 25,
   "id": "42cd9f68",
   "metadata": {},
   "outputs": [
    {
     "name": "stdout",
     "output_type": "stream",
     "text": [
      "X X X X X X \n",
      "X o       X \n",
      "X         X \n",
      "X         X \n",
      "X       E X \n",
      "X X X X X X \n"
     ]
    }
   ],
   "source": [
    "maze = create_basic_maze_puzzle((6,6))\n",
    "pretty_print_maze(maze)"
   ]
  },
  {
   "cell_type": "code",
   "execution_count": 26,
   "id": "04c60a66",
   "metadata": {},
   "outputs": [],
   "source": [
    "def create_four_rooms_maze_puzzle(size):\n",
    "    maze = create_blank_maze(size)\n",
    "    \n",
    "    \n",
    "    # create a vertical and a horizontal wall\n",
    "    if size[0] > 6:\n",
    "        maze[:,size[1]//2].fill(1)\n",
    "        maze[size[0]//2][size[1]//2] = 0\n",
    "        maze[size[0]//2+1][size[1]//2] = 0\n",
    "        maze[size[0]//2-1][size[1]//2] = 0\n",
    "    if size[1] > 6:\n",
    "        maze[size[0]//2].fill(1)\n",
    "        maze[size[0]//2][size[1]//2] = 0\n",
    "        maze[size[0]//2][size[1]//2+1] = 0\n",
    "        maze[size[0]//2][size[1]//2-1] = 0\n",
    "    \n",
    "    maze[1,1] = 2\n",
    "    maze[size[0]-2,size[1]-2] = 3\n",
    "    return maze"
   ]
  },
  {
   "cell_type": "code",
   "execution_count": 27,
   "id": "4d4932a7",
   "metadata": {},
   "outputs": [
    {
     "name": "stdout",
     "output_type": "stream",
     "text": [
      "X X X X X X X X X X X \n",
      "X o       X         X \n",
      "X         X         X \n",
      "X                   X \n",
      "X X X X       X X X X \n",
      "X                   X \n",
      "X         X         X \n",
      "X         X       E X \n",
      "X X X X X X X X X X X \n"
     ]
    }
   ],
   "source": [
    "maze = create_four_rooms_maze_puzzle((9,11))\n",
    "pretty_print_maze(maze)"
   ]
  }
 ],
 "metadata": {
  "kernelspec": {
   "display_name": "Python 3",
   "language": "python",
   "name": "python3"
  },
  "language_info": {
   "codemirror_mode": {
    "name": "ipython",
    "version": 3
   },
   "file_extension": ".py",
   "mimetype": "text/x-python",
   "name": "python",
   "nbconvert_exporter": "python",
   "pygments_lexer": "ipython3",
   "version": "3.11.9"
  }
 },
 "nbformat": 4,
 "nbformat_minor": 5
}
