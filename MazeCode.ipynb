{
 "cells": [
  {
   "cell_type": "code",
   "execution_count": 2,
   "metadata": {},
   "outputs": [],
   "source": [
    "import numpy as np\n",
    "\n",
    "# size is a tuple (x,y), where y is the number of rows \n",
    "# and y the number of columns\n",
    "# x and y must be >= 3\n",
    "def create_blank_maze(size):\n",
    "    # here we use the numpy function zeros that initialises \n",
    "    # an x*y matrix filled with zeros\n",
    "    maze = np.zeros(size, dtype=int)\n",
    "    return maze"
   ]
  },
  {
   "cell_type": "code",
   "execution_count": 3,
   "metadata": {},
   "outputs": [
    {
     "data": {
      "text/plain": [
       "array([[0, 0, 0, 0, 0, 0],\n",
       "       [0, 0, 0, 0, 0, 0],\n",
       "       [0, 0, 0, 0, 0, 0],\n",
       "       [0, 0, 0, 0, 0, 0],\n",
       "       [0, 0, 0, 0, 0, 0],\n",
       "       [0, 0, 0, 0, 0, 0]])"
      ]
     },
     "execution_count": 3,
     "metadata": {},
     "output_type": "execute_result"
    }
   ],
   "source": [
    "maze = create_blank_maze((6,6))\n",
    "maze"
   ]
  },
  {
   "cell_type": "code",
   "execution_count": 4,
   "metadata": {},
   "outputs": [],
   "source": [
    "# size is a tuple (x,y), where y is the number of rows \n",
    "# and y the number of columns\n",
    "# x and y must be >= 3\n",
    "def create_blank_maze(size):\n",
    "    # here we use the numpy function zeros that initialises \n",
    "    # an x*y matrix filled with zeros\n",
    "    maze = np.zeros(size, dtype=int)\n",
    "    maze[0].fill(1)\n",
    "    maze[size[0]-1].fill(1)\n",
    "    maze[:,0].fill(1)\n",
    "    maze[:,size[1]-1].fill(1)\n",
    "    return maze"
   ]
  },
  {
   "cell_type": "code",
   "execution_count": 5,
   "metadata": {},
   "outputs": [
    {
     "data": {
      "text/plain": [
       "array([[1, 1, 1, 1, 1, 1],\n",
       "       [1, 0, 0, 0, 0, 1],\n",
       "       [1, 0, 0, 0, 0, 1],\n",
       "       [1, 0, 0, 0, 0, 1],\n",
       "       [1, 0, 0, 0, 0, 1],\n",
       "       [1, 1, 1, 1, 1, 1]])"
      ]
     },
     "execution_count": 5,
     "metadata": {},
     "output_type": "execute_result"
    }
   ],
   "source": [
    "maze = create_blank_maze((6,6))\n",
    "maze"
   ]
  },
  {
   "cell_type": "code",
   "execution_count": 6,
   "metadata": {},
   "outputs": [],
   "source": [
    "def create_basic_maze_puzzle(size):\n",
    "    maze = create_blank_maze(size)\n",
    "    maze[1,1] = 2\n",
    "    maze[size[0]-2,size[1]-2] = 3    \n",
    "    return maze"
   ]
  },
  {
   "cell_type": "code",
   "execution_count": 7,
   "metadata": {},
   "outputs": [
    {
     "data": {
      "text/plain": [
       "array([[1, 1, 1, 1, 1],\n",
       "       [1, 2, 0, 0, 1],\n",
       "       [1, 0, 0, 0, 1],\n",
       "       [1, 0, 0, 0, 1],\n",
       "       [1, 0, 0, 0, 1],\n",
       "       [1, 0, 0, 0, 1],\n",
       "       [1, 0, 0, 3, 1],\n",
       "       [1, 1, 1, 1, 1]])"
      ]
     },
     "execution_count": 7,
     "metadata": {},
     "output_type": "execute_result"
    }
   ],
   "source": [
    "maze = create_basic_maze_puzzle((8,5))\n",
    "maze"
   ]
  },
  {
   "cell_type": "code",
   "execution_count": 12,
   "metadata": {},
   "outputs": [],
   "source": [
    "def pretty_print_maze(maze):\n",
    "    if not type(maze) is np.ndarray:\n",
    "        return \"This is not a maze\"\n",
    "    for row in maze:\n",
    "        for element in row:\n",
    "            if element == 0:\n",
    "                print(\" \", end=' ')\n",
    "            elif element == 1:\n",
    "                print(\"X\", end=' ')  \n",
    "            elif element == 2:\n",
    "                print(\"o\", end=' ') \n",
    "            elif element == 3:\n",
    "                print(\"E\", end=' ')  \n",
    "            else:\n",
    "                print(element, end=' ')  \n",
    "        print()"
   ]
  },
  {
   "cell_type": "code",
   "execution_count": 13,
   "metadata": {},
   "outputs": [
    {
     "name": "stdout",
     "output_type": "stream",
     "text": [
      "X X X X X X \n",
      "X o       X \n",
      "X         X \n",
      "X         X \n",
      "X       E X \n",
      "X X X X X X \n"
     ]
    }
   ],
   "source": [
    "maze = create_basic_maze_puzzle((6,6))\n",
    "pretty_print_maze(maze)"
   ]
  },
  {
   "cell_type": "code",
   "execution_count": 14,
   "metadata": {},
   "outputs": [],
   "source": [
    "def create_four_rooms_maze_puzzle(size):\n",
    "    maze = create_blank_maze(size)\n",
    "    \n",
    "    \n",
    "    # create a vertical and a horizontal wall\n",
    "    if size[0] > 6:\n",
    "        maze[:,size[1]//2].fill(1)\n",
    "        maze[size[0]//2][size[1]//2] = 0\n",
    "        maze[size[0]//2+1][size[1]//2] = 0\n",
    "        maze[size[0]//2-1][size[1]//2] = 0\n",
    "    if size[1] > 6:\n",
    "        maze[size[0]//2].fill(1)\n",
    "        maze[size[0]//2][size[1]//2] = 0\n",
    "        maze[size[0]//2][size[1]//2+1] = 0\n",
    "        maze[size[0]//2][size[1]//2-1] = 0\n",
    "    \n",
    "    maze[1,1] = 2\n",
    "    maze[size[0]-2,size[1]-2] = 3\n",
    "    return maze"
   ]
  },
  {
   "cell_type": "code",
   "execution_count": 23,
   "metadata": {},
   "outputs": [
    {
     "name": "stdout",
     "output_type": "stream",
     "text": [
      "X X X X X X X X X X X \n",
      "X o       X         X \n",
      "X         X         X \n",
      "X                   X \n",
      "X X X X       X X X X \n",
      "X                   X \n",
      "X         X         X \n",
      "X         X       E X \n",
      "X X X X X X X X X X X \n"
     ]
    }
   ],
   "source": [
    "maze = create_four_rooms_maze_puzzle((9,11))\n",
    "pretty_print_maze(maze)"
   ]
  },
  {
   "cell_type": "code",
   "execution_count": 17,
   "metadata": {},
   "outputs": [],
   "source": [
    "import numpy as np\n",
    "\n",
    "# size is a tuple (x,y), where y is the number of rows and y the number of columns\n",
    "# x and y must be >= 3\n",
    "def create_blank_maze(size):\n",
    "    # here we use the numpy function zeros that initialises an x*y matrix filled with zeros\n",
    "    maze = np.zeros(size, dtype=int)\n",
    "    maze[0].fill(1)\n",
    "    maze[size[0]-1].fill(1)\n",
    "    maze[:,0].fill(1)\n",
    "    maze[:,size[1]-1].fill(1)\n",
    "    return maze\n",
    "\n",
    "def create_basic_maze_puzzle(size):\n",
    "    maze = create_blank_maze(size)\n",
    "    maze[1,1] = 2\n",
    "    maze[size[0]-2,size[1]-2] = 3    \n",
    "    return maze\n",
    "\n",
    "def create_simple_maze_puzzle(size):\n",
    "    maze = create_blank_maze(size)\n",
    "        \n",
    "    # create some walls\n",
    "    for i in range((size[0]-3)//2):\n",
    "        \n",
    "        maze[2+i*2].fill(1)\n",
    "        \n",
    "        # create some openings\n",
    "        if i%2 == 0:\n",
    "            maze[2+i*2][size[1]-2] = 0\n",
    "        else:\n",
    "            maze[2+i*2][1] = 0\n",
    "        \n",
    "        # if the maze is large enough, create less trivial openings\n",
    "        if size[1] > 6 and i%3 == 0:\n",
    "            if i%2 == 0:\n",
    "                maze[2+i*2][size[1]-2] = 1\n",
    "                maze[2+i*2][size[1]-5] = 0\n",
    "            else:\n",
    "                maze[2+i*2][1] = 1\n",
    "                maze[2+i*2][4] = 0\n",
    "                \n",
    "    maze[1,1] = 2\n",
    "    maze[size[0]-2,size[1]-2] = 3\n",
    "    \n",
    "    return maze\n",
    "\n",
    "def create_four_rooms_maze_puzzle(size):\n",
    "    maze = create_blank_maze(size)    \n",
    "    \n",
    "    # create a vertical and a horizontal wall\n",
    "    if size[0] > 6:\n",
    "        maze[:,size[1]//2].fill(1)\n",
    "        maze[size[0]//2][size[1]//2] = 0\n",
    "        maze[size[0]//2+1][size[1]//2] = 0\n",
    "        maze[size[0]//2-1][size[1]//2] = 0\n",
    "    if size[1] > 6:\n",
    "        maze[size[0]//2].fill(1)\n",
    "        maze[size[0]//2][size[1]//2] = 0\n",
    "        maze[size[0]//2][size[1]//2+1] = 0\n",
    "        maze[size[0]//2][size[1]//2-1] = 0\n",
    "    \n",
    "    maze[1,1] = 2\n",
    "    maze[size[0]-2,size[1]-2] = 3\n",
    "    \n",
    "    return maze\n",
    "\n",
    "def pretty_print_maze(maze):\n",
    "    if not type(maze) is np.ndarray:\n",
    "        return \"This is not a maze\"\n",
    "    for row in maze:\n",
    "        for element in row:\n",
    "            if element == 0:\n",
    "                print(\" \", end=' ')\n",
    "            elif element == 1:\n",
    "                print(\"X\", end=' ')  \n",
    "            elif element == 2:\n",
    "                print(\"o\", end=' ') \n",
    "            elif element == 3:\n",
    "                print(\"E\", end=' ')  \n",
    "            else:\n",
    "                print(element, end=' ')  \n",
    "        print()"
   ]
  },
  {
   "cell_type": "code",
   "execution_count": 20,
   "metadata": {},
   "outputs": [
    {
     "name": "stdout",
     "output_type": "stream",
     "text": [
      "X X X X X X X X X X X X \n",
      "X o                   X \n",
      "X X X X X X X   X X X X \n",
      "X                     X \n",
      "X   X X X X X X X X X X \n",
      "X                     X \n",
      "X X X X X X X X X X   X \n",
      "X                   E X \n",
      "X X X X X X X X X X X X \n"
     ]
    },
    {
     "data": {
      "text/plain": [
       "array([[1, 1, 1, 1, 1, 1, 1, 1, 1, 1, 1, 1],\n",
       "       [1, 2, 0, 0, 0, 0, 0, 0, 0, 0, 0, 1],\n",
       "       [1, 1, 1, 1, 1, 1, 1, 0, 1, 1, 1, 1],\n",
       "       [1, 0, 0, 0, 0, 0, 0, 0, 0, 0, 0, 1],\n",
       "       [1, 0, 1, 1, 1, 1, 1, 1, 1, 1, 1, 1],\n",
       "       [1, 0, 0, 0, 0, 0, 0, 0, 0, 0, 0, 1],\n",
       "       [1, 1, 1, 1, 1, 1, 1, 1, 1, 1, 0, 1],\n",
       "       [1, 0, 0, 0, 0, 0, 0, 0, 0, 0, 3, 1],\n",
       "       [1, 1, 1, 1, 1, 1, 1, 1, 1, 1, 1, 1]])"
      ]
     },
     "execution_count": 20,
     "metadata": {},
     "output_type": "execute_result"
    }
   ],
   "source": [
    "all_actions = [\"UP\", \"DOWN\", \"LEFT\", \"RIGHT\"]\n",
    "\n",
    "maze = create_simple_maze_puzzle((9,12))\n",
    "pretty_print_maze(maze)\n",
    "maze"
   ]
  },
  {
   "cell_type": "code",
   "execution_count": 24,
   "metadata": {},
   "outputs": [],
   "source": [
    "def apply_action(maze, action):\n",
    "    x,y = np.where(maze == 2)\n",
    "    pr = x[0]\n",
    "    pc = y[0]\n",
    "    movement_tuple = (0,0)\n",
    "    if action == \"UP\":\n",
    "        movement_tuple = (-1,0)\n",
    "    elif action == \"DOWN\":\n",
    "        movement_tuple = (1,0)\n",
    "    elif action == \"LEFT\":\n",
    "        movement_tuple = (0,-1)\n",
    "    elif action == \"RIGHT\":\n",
    "        movement_tuple = (0,1)\n",
    "    if action == \"UP\" or action == \"DOWN\" or action == \"LEFT\" or action == \"RIGHT\":    \n",
    "        if maze[pr+movement_tuple[0],pc+movement_tuple[1]] == 1:\n",
    "            return None\n",
    "        else:\n",
    "            new_maze = np.copy(maze)\n",
    "            new_maze[pr+movement_tuple[0],pc+movement_tuple[1]] = 2\n",
    "            new_maze[pr,pc] = 0\n",
    "            return new_maze"
   ]
  },
  {
   "cell_type": "code",
   "execution_count": 28,
   "metadata": {},
   "outputs": [
    {
     "name": "stdout",
     "output_type": "stream",
     "text": [
      "X X X X X X X X X X X \n",
      "X         X         X \n",
      "X o       X         X \n",
      "X                   X \n",
      "X X X X       X X X X \n",
      "X                   X \n",
      "X         X         X \n",
      "X         X       E X \n",
      "X X X X X X X X X X X \n"
     ]
    },
    {
     "data": {
      "text/plain": [
       "array([[1, 1, 1, 1, 1, 1, 1, 1, 1, 1, 1],\n",
       "       [1, 0, 0, 0, 0, 1, 0, 0, 0, 0, 1],\n",
       "       [1, 2, 0, 0, 0, 1, 0, 0, 0, 0, 1],\n",
       "       [1, 0, 0, 0, 0, 0, 0, 0, 0, 0, 1],\n",
       "       [1, 1, 1, 1, 0, 0, 0, 1, 1, 1, 1],\n",
       "       [1, 0, 0, 0, 0, 0, 0, 0, 0, 0, 1],\n",
       "       [1, 0, 0, 0, 0, 1, 0, 0, 0, 0, 1],\n",
       "       [1, 0, 0, 0, 0, 1, 0, 0, 0, 3, 1],\n",
       "       [1, 1, 1, 1, 1, 1, 1, 1, 1, 1, 1]])"
      ]
     },
     "execution_count": 28,
     "metadata": {},
     "output_type": "execute_result"
    }
   ],
   "source": [
    "maze_after = apply_action(maze,\"DOWN\")\n",
    "pretty_print_maze(maze_after)\n",
    "maze_after"
   ]
  },
  {
   "cell_type": "code",
   "execution_count": 29,
   "metadata": {},
   "outputs": [],
   "source": [
    "def is_action_valid(maze, action):\n",
    "    return type(apply_action(maze, action)) is np.ndarray\n",
    "\n",
    "def apply_actions(maze, actions, print_actions = False):\n",
    "    new_maze = np.copy(maze)\n",
    "    if print_actions:\n",
    "        pretty_print_maze(maze)\n",
    "    for action in actions:\n",
    "        new_maze = apply_action(new_maze, action)\n",
    "        if not type(new_maze) is np.ndarray:\n",
    "            return None\n",
    "        if print_actions:\n",
    "            print('\\nAction: '+action)\n",
    "            pretty_print_maze(new_maze)\n",
    "    return new_maze"
   ]
  },
  {
   "cell_type": "code",
   "execution_count": 31,
   "metadata": {},
   "outputs": [
    {
     "name": "stdout",
     "output_type": "stream",
     "text": [
      "X X X X X X X X X X X \n",
      "X o       X         X \n",
      "X         X         X \n",
      "X                   X \n",
      "X X X X       X X X X \n",
      "X                   X \n",
      "X         X         X \n",
      "X         X       E X \n",
      "X X X X X X X X X X X \n",
      "\n",
      "Action: RIGHT\n",
      "X X X X X X X X X X X \n",
      "X   o     X         X \n",
      "X         X         X \n",
      "X                   X \n",
      "X X X X       X X X X \n",
      "X                   X \n",
      "X         X         X \n",
      "X         X       E X \n",
      "X X X X X X X X X X X \n",
      "\n",
      "Action: DOWN\n",
      "X X X X X X X X X X X \n",
      "X         X         X \n",
      "X   o     X         X \n",
      "X                   X \n",
      "X X X X       X X X X \n",
      "X                   X \n",
      "X         X         X \n",
      "X         X       E X \n",
      "X X X X X X X X X X X \n",
      "\n",
      "Action: RIGHT\n",
      "X X X X X X X X X X X \n",
      "X         X         X \n",
      "X     o   X         X \n",
      "X                   X \n",
      "X X X X       X X X X \n",
      "X                   X \n",
      "X         X         X \n",
      "X         X       E X \n",
      "X X X X X X X X X X X \n",
      "\n",
      "Action: DOWN\n",
      "X X X X X X X X X X X \n",
      "X         X         X \n",
      "X         X         X \n",
      "X     o             X \n",
      "X X X X       X X X X \n",
      "X                   X \n",
      "X         X         X \n",
      "X         X       E X \n",
      "X X X X X X X X X X X \n"
     ]
    },
    {
     "data": {
      "text/plain": [
       "array([[1, 1, 1, 1, 1, 1, 1, 1, 1, 1, 1],\n",
       "       [1, 0, 0, 0, 0, 1, 0, 0, 0, 0, 1],\n",
       "       [1, 0, 0, 0, 0, 1, 0, 0, 0, 0, 1],\n",
       "       [1, 0, 0, 2, 0, 0, 0, 0, 0, 0, 1],\n",
       "       [1, 1, 1, 1, 0, 0, 0, 1, 1, 1, 1],\n",
       "       [1, 0, 0, 0, 0, 0, 0, 0, 0, 0, 1],\n",
       "       [1, 0, 0, 0, 0, 1, 0, 0, 0, 0, 1],\n",
       "       [1, 0, 0, 0, 0, 1, 0, 0, 0, 3, 1],\n",
       "       [1, 1, 1, 1, 1, 1, 1, 1, 1, 1, 1]])"
      ]
     },
     "execution_count": 31,
     "metadata": {},
     "output_type": "execute_result"
    }
   ],
   "source": [
    "apply_actions(maze,[\"RIGHT\", \"DOWN\", \"RIGHT\", \"DOWN\"], print_actions = True)"
   ]
  }
 ],
 "metadata": {
  "kernelspec": {
   "display_name": "base",
   "language": "python",
   "name": "python3"
  },
  "language_info": {
   "codemirror_mode": {
    "name": "ipython",
    "version": 3
   },
   "file_extension": ".py",
   "mimetype": "text/x-python",
   "name": "python",
   "nbconvert_exporter": "python",
   "pygments_lexer": "ipython3",
   "version": "3.12.4"
  }
 },
 "nbformat": 4,
 "nbformat_minor": 2
}
